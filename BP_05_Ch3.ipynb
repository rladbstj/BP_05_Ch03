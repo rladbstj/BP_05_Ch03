{
  "nbformat": 4,
  "nbformat_minor": 0,
  "metadata": {
    "colab": {
      "provenance": [],
      "authorship_tag": "ABX9TyNkYasRPw0XXNv1/3hvxtYo",
      "include_colab_link": true
    },
    "kernelspec": {
      "name": "python3",
      "display_name": "Python 3"
    },
    "language_info": {
      "name": "python"
    }
  },
  "cells": [
    {
      "cell_type": "markdown",
      "metadata": {
        "id": "view-in-github",
        "colab_type": "text"
      },
      "source": [
        "<a href=\"https://colab.research.google.com/github/rladbstj/BP_05_Ch03/blob/main/BP_05_Ch3.ipynb\" target=\"_parent\"><img src=\"https://colab.research.google.com/assets/colab-badge.svg\" alt=\"Open In Colab\"/></a>"
      ]
    },
    {
      "cell_type": "markdown",
      "source": [
        "1. 사용자로부터 두 개의 정수를 받아 정수의 합 정수의 차 정수의 곱 졍수의 펑균, 큰 수 작은 수를 계산하여 화면에 출럭하는 프로그랩을 작셩하라. 파이썬이 제공하는 내 장 함수 max(x, y), min(x, y)을 사용해보자.\n"
      ],
      "metadata": {
        "id": "RUu8qsaLzZpI"
      }
    },
    {
      "cell_type": "code",
      "source": [
        "x=int(input(\"x의 값은?: \"))\n",
        "y=int(input(\"y의 값은?: \"))\n",
        "print(\"두수의 합:\",x+y)\n",
        "print(\"두수의 차:\",x-y)\n",
        "print(\"두수의 곱:\",x*y)\n",
        "print(\"두수의 평균:\",(x+y)/2)\n",
        "print(\"큰수:\",max(x,y))\n",
        "print(\"작은수:\",min(x,y))"
      ],
      "metadata": {
        "colab": {
          "base_uri": "https://localhost:8080/"
        },
        "id": "tZ2ZPp9P2sjA",
        "outputId": "6cb51812-72c7-4a5e-ba0e-69a0e0996cfe"
      },
      "execution_count": 1,
      "outputs": [
        {
          "output_type": "stream",
          "name": "stdout",
          "text": [
            "x의 값은?: 9\n",
            "y의 값은?: 6\n",
            "두수의 합: 15\n",
            "두수의 차: 3\n",
            "두수의 곱: 54\n",
            "두수의 평균: 7.5\n",
            "큰수: 9\n",
            "작은수: 6\n"
          ]
        }
      ]
    },
    {
      "cell_type": "markdown",
      "source": [
        "2. 원기둥의 부피를 계산하는 프로그램을 작성해보자. 원기둥의 부피는 다음과 같이 계산한다."
      ],
      "metadata": {
        "id": "yviXwOs7zZrp"
      }
    },
    {
      "cell_type": "code",
      "source": [
        "r=int(input(\"r값은?:\"))\n",
        "h=int(input(\"h값은?:\"))\n",
        "\n",
        "vol=3.141592 * r**2 * h\n",
        "print(\"원기둥의 부피 :\",vol)"
      ],
      "metadata": {
        "colab": {
          "base_uri": "https://localhost:8080/"
        },
        "id": "Y86RR2CB2sqy",
        "outputId": "ad642447-2869-454e-b4f6-e746863a1b6e"
      },
      "execution_count": 2,
      "outputs": [
        {
          "output_type": "stream",
          "name": "stdout",
          "text": [
            "r값은?:10\n",
            "h값은?:10\n",
            "원기둥의 부피 : 3141.592\n"
          ]
        }
      ]
    },
    {
      "cell_type": "markdown",
      "source": [
        "3. 사용자로부터 정수를 받아서 자리수의 합을 계산하는 프로그램을 작성하여 보자. 예를 들어서 사용자가 1234를 입력하였다면 1+2+3+4를 계산하면 된다. 나머지 연산자와 정수 나눗셈 연산자 //를 적극적으로 사용해보자."
      ],
      "metadata": {
        "id": "nHrMZqTNzZxY"
      }
    },
    {
      "cell_type": "code",
      "source": [
        "number = int(input(\"정수를 입력하시오.:\"))\n",
        "\n",
        "sum = 0\n",
        "sum = sum + number % 10\n",
        "number = number // 10\n",
        "\n",
        "sum = sum + number % 10\n",
        "number = number // 10\n",
        "\n",
        "sum = sum + number % 10\n",
        "number = number // 10\n",
        "\n",
        "sum = sum + number % 10\n",
        "number = number // 10\n",
        "\n",
        "print(\"자리수의 합은:\", str(sum))"
      ],
      "metadata": {
        "colab": {
          "base_uri": "https://localhost:8080/"
        },
        "id": "VSQsdYuX2stH",
        "outputId": "19132437-111f-4a66-9ffd-e78070eade1b"
      },
      "execution_count": 3,
      "outputs": [
        {
          "output_type": "stream",
          "name": "stdout",
          "text": [
            "정수를 입력하시오.:1234\n",
            "자리수의 합은: 10\n"
          ]
        }
      ]
    },
    {
      "cell_type": "markdown",
      "source": [
        "4. 사용자로부터 두 점의 좌표(x1, y1)과 (x2, y2)를 입력받아서 두 점 사이의 거리를 계산하는 프로그램을 작성해보자. 스크립트 모드로 작성하라. 거리는 다음 식으로 계산한다."
      ],
      "metadata": {
        "id": "rmMk1sm5zZuy"
      }
    },
    {
      "cell_type": "code",
      "source": [
        "x1 = int(input(\"x1값을 입력하시오. : \"))\n",
        "x2 = int(input(\"x2값을 입력하시오. : \"))\n",
        "y1 = int(input(\"y1값을 입력하시오. : \"))\n",
        "y2 = int(input(\"y2값을 입력하시오. : \"))\n",
        "dist = ((x2 - x1)**2 + (y2 -y1)**2)** 0.5\n",
        "print(\"두점의 사이의 거리는?\" , dist , \"입니다.\")"
      ],
      "metadata": {
        "colab": {
          "base_uri": "https://localhost:8080/"
        },
        "id": "VHAniJEJ2svu",
        "outputId": "fae0c297-d6fa-420a-80a9-57177655045c"
      },
      "execution_count": 4,
      "outputs": [
        {
          "output_type": "stream",
          "name": "stdout",
          "text": [
            "x1값을 입력하시오. : 0\n",
            "x2값을 입력하시오. : 100\n",
            "y1값을 입력하시오. : 0\n",
            "y2값을 입력하시오. : 100\n",
            "두점의 사이의 거리는? 141.4213562373095 입니다.\n"
          ]
        }
      ]
    },
    {
      "cell_type": "markdown",
      "source": [
        "5. 4번 문제에서 계산한 거리가 맞는지, 터틀 그래픽으로 확인해보자. 거북이를 왼쪽으로 45도 회전하여 141만큼 전진시킨다. 다시 거북이를(0, 0)으로 이동하고 0도를 가리키게 한 후에 100만큼 전진하고 왼쪽으로 90도 회전하여 100만큼 전진한다. 화면에 그려진 직선이 일치하는가?"
      ],
      "metadata": {
        "id": "ijvlXx0gzZ0B"
      }
    },
    {
      "cell_type": "code",
      "source": [
        "import turtle\n",
        "\n",
        "t=turtle.Turtle()\n",
        "t.shape(\"turtle\")\n",
        "t.setheading(45)\n",
        "t.forward(141)\n",
        "t.up()\n",
        "t.goto(0,0)\n",
        "t.down()\n",
        "t.setheading(0)\n",
        "t.forward(100)\n",
        "t.setheading(90)\n",
        "t.forward(100)"
      ],
      "metadata": {
        "id": "dbtswrWR2syn"
      },
      "execution_count": null,
      "outputs": []
    },
    {
      "cell_type": "markdown",
      "source": [
        "6. 사용자로부터 두 점을 입력받아서 터틀 그래픽을 이용하여 두 점을 연결하는 직선을 그린다. 직선의 끝점에 직선의 길이를 계산하여 출력해보자."
      ],
      "metadata": {
        "id": "BtGSh07WzZ3Y"
      }
    },
    {
      "cell_type": "code",
      "source": [
        "import turtle\n",
        "\n",
        "t=turtle.Turtle()\n",
        "t.shape(\"turtle\")\n",
        "\n",
        "x1=int(input(\"x1:\"))\n",
        "y1=int(input(\"y1:\"))\n",
        "x2=int(input(\"x2:\"))\n",
        "y2=int(input(\"y2:\"))\n",
        "distance=((x1-x2)**2+(y1-y2)**2)**(1/2)\n",
        "t.up()\n",
        "t.goto(x1,y1)\n",
        "t.down()\n",
        "t.goto(x2,y2)\n",
        "t.write(\"두 점 사이의 거리=\"+str(distance))    ##str을 붙이지 않으면 거북이가 더 걸어나간다."
      ],
      "metadata": {
        "id": "l0GgwElb2tCx"
      },
      "execution_count": null,
      "outputs": []
    },
    {
      "cell_type": "markdown",
      "source": [
        "7. 파이썬에서 time()을 호출하면 1970년 1월 1일 이후 흘러온 전체 초가 반환된다. 이것을 적절하게 나누거나 나머지를 구해서 현재 시간의 시와 분을 계산할 수 있을까?"
      ],
      "metadata": {
        "id": "lnW6oVm0zZ7G"
      }
    },
    {
      "cell_type": "code",
      "source": [
        "import time\n",
        "fseconds = time.time()\n",
        "min = int((fseconds //60) %60)\n",
        "hour = int(min//60)\n",
        "\n",
        "print(\"현재 시간:\", hour, \"시\", min, \"분\")\n",
        " "
      ],
      "metadata": {
        "colab": {
          "base_uri": "https://localhost:8080/"
        },
        "id": "ao3FWuUV2tN1",
        "outputId": "47a3dc68-3d42-453a-9afd-c3281398ffd0"
      },
      "execution_count": 5,
      "outputs": [
        {
          "output_type": "stream",
          "name": "stdout",
          "text": [
            "현재 시간: 0 시 13 분\n"
          ]
        }
      ]
    },
    {
      "cell_type": "markdown",
      "source": [
        "8. 움직이는 물체의 운동에너지를 계산해보자. 물체의 에너지를 계산하는 식은 1/2*무게*속도*2이다."
      ],
      "metadata": {
        "id": "exwPAi4czbQF"
      }
    },
    {
      "cell_type": "code",
      "source": [
        "x=int(input(\"물체의 무게를 입력하시오(킬로그램): \"))\n",
        "y=int(input(\"물체의 속도를 입력하시오(미터/초): \"))\n",
        "print(\"물체는\",1/2*x*y**2 ,\" 에너지를 가지고 있다.\")"
      ],
      "metadata": {
        "colab": {
          "base_uri": "https://localhost:8080/"
        },
        "id": "SQxERQKF2tSZ",
        "outputId": "60c334d6-7794-4352-c438-d099132c2e8a"
      },
      "execution_count": 7,
      "outputs": [
        {
          "output_type": "stream",
          "name": "stdout",
          "text": [
            "물체의 무게를 입력하시오(킬로그램): 10\n",
            "물체의 속도를 입력하시오(미터/초): 10\n",
            "물체는 500.0  에너지를 가지고 있다.\n"
          ]
        }
      ]
    }
  ]
}